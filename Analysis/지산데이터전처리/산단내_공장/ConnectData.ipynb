{
 "cells": [
  {
   "cell_type": "code",
   "execution_count": 4,
   "metadata": {},
   "outputs": [],
   "source": [
    "import pandas as pd\n",
    "import re\n",
    "\n",
    "df2 = pd.read_csv(\"../FACT/FACT_Data.csv\", low_memory=False)\n",
    "df_FACT = df2.iloc[:, [3, 9, 25, 29, 35]]\n",
    "df_KIC = pd.read_csv(\"df_KIC.csv\", low_memory=False)"
   ]
  },
  {
   "cell_type": "code",
   "execution_count": 5,
   "metadata": {},
   "outputs": [],
   "source": [
    "for c in range(len(df_KIC)):\n",
    "    for f in range(len(df_FACT)):\n",
    "        if str(df_KIC.iloc[c, 1]) in str(df_FACT.iloc[f, 4]):\n",
    "            \n",
    "  \n",
    "  \n",
    "df_new = pd.DataFrame({\n",
    "    'KIC': ,\n",
    "    'FACT_name': ,\n",
    "    'FACT_app': ,\n",
    "    'FACT_area': ,\n",
    "    'FACT_category': ,\n",
    "    'FACT_addr': \n",
    "})\n",
    "\n",
    "df_new.to_csv(\"공장-지산 연결.csv\", index=False, encoding=\"utf-8-sig\")"
   ]
  }
 ],
 "metadata": {
  "kernelspec": {
   "display_name": "Python 3",
   "language": "python",
   "name": "python3"
  },
  "language_info": {
   "codemirror_mode": {
    "name": "ipython",
    "version": 3
   },
   "file_extension": ".py",
   "mimetype": "text/x-python",
   "name": "python",
   "nbconvert_exporter": "python",
   "pygments_lexer": "ipython3",
   "version": "3.10.6"
  }
 },
 "nbformat": 4,
 "nbformat_minor": 2
}
