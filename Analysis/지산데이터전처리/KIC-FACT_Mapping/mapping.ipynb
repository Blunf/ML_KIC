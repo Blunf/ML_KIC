{
 "cells": [
  {
   "cell_type": "code",
   "execution_count": null,
   "metadata": {},
   "outputs": [
    {
     "name": "stdout",
     "output_type": "stream",
     "text": [
      "✅ 단순 점 지도 생성: KIC_map_by_industry.html\n"
     ]
    }
   ],
   "source": [
    "import os\n",
    "import pandas as pd\n",
    "import folium\n",
    "import matplotlib.pyplot as plt\n",
    "\n",
    "kic_csv = './kic좌표.csv'\n",
    "fact_csv = './FACT_CORD.CSV'\n",
    "output_map = './KIC_map_by_industry.html'\n",
    "\n",
    "import matplotlib.cm as cm\n",
    "import matplotlib.colors as mcolors\n",
    "\n",
    "def generate_color_map():\n",
    "    cmap = cm.get_cmap('hsv', 99)\n",
    "    color_map = {}\n",
    "    for i in range(1, 100):\n",
    "        prefix = f\"{i:02}\"  # '01' ~ '99'\n",
    "        rgb = cmap(i - 1)[:3] \n",
    "        hex_color = mcolors.rgb2hex(rgb)\n",
    "        color_map[prefix] = hex_color\n",
    "    return color_map\n",
    "\n",
    "color_by_prefix = generate_color_map()\n",
    "\n",
    "def pick_color(code):\n",
    "    code_str = str(code).strip()\n",
    "    if len(code_str) >= 2:\n",
    "        prefix = code_str[:2]\n",
    "        return color_by_prefix.get(prefix, 'gray')\n",
    "    return 'gray'\n",
    "\n",
    "m = folium.Map(location=[36.5, 127.8], zoom_start=7)\n",
    "\n",
    "df_fact = pd.read_csv(fact_csv, dtype=str)\n",
    "for _, r in df_fact.iterrows():\n",
    "    try:\n",
    "        lat = float(r['위도'])\n",
    "        lon = float(r['경도'])\n",
    "        code = r.iloc[1]  # 두 번째 열 (index 1)\n",
    "        name = r.get('이름', '')\n",
    "    except:\n",
    "        continue\n",
    "    folium.CircleMarker(\n",
    "        location=[lat, lon],\n",
    "        radius=2,\n",
    "        color=pick_color(code),\n",
    "        fill=True,\n",
    "        fill_color=pick_color(code),\n",
    "        fill_opacity=0.7,\n",
    "        popup=f\"{name} ({code})\"\n",
    "    ).add_to(m)\n",
    "\n",
    "df_kic = pd.read_csv(kic_csv, dtype=str)\n",
    "for _, r in df_kic.iterrows():\n",
    "    try:\n",
    "        lat, lon = float(r['위도']), float(r['경도'])\n",
    "    except:\n",
    "        continue\n",
    "    folium.CircleMarker(\n",
    "        location=[lat, lon],\n",
    "        radius=10,\n",
    "        color='black',\n",
    "        fill=True,\n",
    "        fill_color='black',\n",
    "        fill_opacity=0.7,\n",
    "        popup=r.get('센터명', '')\n",
    "    ).add_to(m)\n",
    "\n",
    "m.save(output_map)\n",
    "print(f\"✅ 코드별 색상 지도 생성 완료: {output_map}\")"
   ]
  }
 ],
 "metadata": {
  "kernelspec": {
   "display_name": "Python 3",
   "language": "python",
   "name": "python3"
  },
  "language_info": {
   "codemirror_mode": {
    "name": "ipython",
    "version": 3
   },
   "file_extension": ".py",
   "mimetype": "text/x-python",
   "name": "python",
   "nbconvert_exporter": "python",
   "pygments_lexer": "ipython3",
   "version": "3.10.6"
  }
 },
 "nbformat": 4,
 "nbformat_minor": 2
}
