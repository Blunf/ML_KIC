{
 "cells": [
  {
   "cell_type": "code",
   "execution_count": null,
   "metadata": {},
   "outputs": [
    {
     "name": "stdout",
     "output_type": "stream",
     "text": [
      "✅ 완료! 저장된 파일: NearData.csv\n"
     ]
    },
    {
     "ename": "",
     "evalue": "",
     "output_type": "error",
     "traceback": [
      "\u001b[1;31mThe Kernel crashed while executing code in the current cell or a previous cell. \n",
      "\u001b[1;31mPlease review the code in the cell(s) to identify a possible cause of the failure. \n",
      "\u001b[1;31mClick <a href='https://aka.ms/vscodeJupyterKernelCrash'>here</a> for more info. \n",
      "\u001b[1;31mView Jupyter <a href='command:jupyter.viewOutput'>log</a> for further details."
     ]
    }
   ],
   "source": [
    "import pandas as pd\n",
    "import numpy as np\n",
    "\n",
    "\n",
    "KIC_df = pd.read_csv(\"KIC\\KIC_cor.csv\").head(3)\n",
    "CONV_df = pd.read_csv(\"CONV\\편의점_최종_필터링.csv\")\n",
    "\n",
    "\n",
    "def calculate_distance(x1, y1, x2, y2):\n",
    "    # 좌표 차이 계산\n",
    "    dx = (x2 - x1) * 88.74 * 1000  # 약 88.74km per 1 degree 경도 (한국 중앙 위도)\n",
    "    dy = (y2 - y1) * 111.32 * 1000  # 약 111.32km per 1 degree 위도 (한국)\n",
    "    # 유클리드 거리 계산\n",
    "    return np.sqrt(dx**2 + dy**2)\n",
    "\n",
    "\n",
    "results = []\n",
    "\n",
    "\n",
    "for i, center in KIC_df.iterrows():\n",
    "    center_name = center.iloc[0]\n",
    "    center_x = center.iloc[2]\n",
    "    center_y = center.iloc[3]\n",
    "\n",
    "    for j, bank in CONV_df.iterrows():\n",
    "        bank_name = bank.iloc[1]\n",
    "        bank_x = bank.iloc[4]\n",
    "        bank_y = bank.iloc[3]\n",
    "\n",
    "        distance = calculate_distance(center_x, center_y, bank_x, bank_y)\n",
    "\n",
    "        if distance <= 500:\n",
    "            results.append([center_name, bank_name, distance])\n",
    "\n",
    "\n",
    "\n",
    "\n",
    "# 📁 결과 데이터프레임 생성\n",
    "results_df = pd.DataFrame(results, columns=[\"센터명\", \"편의점명\", \"거리 (m)\"])\n",
    "\n",
    "# 📁 결과 저장\n",
    "results_file = \"NearData.csv\"\n",
    "results_df.to_csv(results_file, index=False, encoding=\"utf-8-sig\")\n",
    "\n",
    "print(f\"✅ 완료! 저장된 파일: {results_file}\")"
   ]
  }
 ],
 "metadata": {
  "kernelspec": {
   "display_name": "Python 3",
   "language": "python",
   "name": "python3"
  },
  "language_info": {
   "codemirror_mode": {
    "name": "ipython",
    "version": 3
   },
   "file_extension": ".py",
   "mimetype": "text/x-python",
   "name": "python",
   "nbconvert_exporter": "python",
   "pygments_lexer": "ipython3",
   "version": "3.10.11"
  }
 },
 "nbformat": 4,
 "nbformat_minor": 2
}
