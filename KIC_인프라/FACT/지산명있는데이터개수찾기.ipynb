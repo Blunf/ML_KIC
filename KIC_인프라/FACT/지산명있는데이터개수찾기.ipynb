{
 "cells": [
  {
   "cell_type": "markdown",
   "metadata": {},
   "source": [
    "개수 구하기\n"
   ]
  },
  {
   "cell_type": "code",
   "execution_count": 1,
   "metadata": {},
   "outputs": [
    {
     "name": "stderr",
     "output_type": "stream",
     "text": [
      "/var/folders/gh/rmj80qln5tz2v55hd102xqhr0000gn/T/ipykernel_53421/2261298232.py:4: DtypeWarning: Columns (12,29) have mixed types. Specify dtype option on import or set low_memory=False.\n",
      "  df = pd.read_csv(\"TotalFACT.csv\")  # 파일 이름을 적절히 변경하세요\n"
     ]
    },
    {
     "name": "stdout",
     "output_type": "stream",
     "text": [
      "지식산업센터명 열에 무언가 써있는 행의 수: 23629\n"
     ]
    }
   ],
   "source": [
    "import pandas as pd\n",
    "\n",
    "# CSV 파일 읽기\n",
    "df = pd.read_csv(\"TotalFACT.csv\")  # 파일 이름을 적절히 변경하세요\n",
    "\n",
    "# \"지식산업센터명\" 열의 인덱스를 확인 (예: 3번 열이라고 가정)\n",
    "# 실제 열 이름으로 접근하는 것이 더 안전합니다.\n",
    "# 예를 들어, \"지식산업센터명\"이라는 열 이름이 정확하다면 아래와 같이 작성할 수 있습니다.\n",
    "\n",
    "count = df[df[\"지식산업센터명\"].notnull() & (df[\"지식산업센터명\"] != \" \")].shape[0]\n",
    "\n",
    "# 결과 출력\n",
    "print(f\"지식산업센터명 열에 무언가 써있는 행의 수: {count}\")"
   ]
  },
  {
   "cell_type": "markdown",
   "metadata": {},
   "source": [
    "새로 파일 만들기"
   ]
  },
  {
   "cell_type": "code",
   "execution_count": 2,
   "metadata": {},
   "outputs": [
    {
     "name": "stderr",
     "output_type": "stream",
     "text": [
      "/var/folders/gh/rmj80qln5tz2v55hd102xqhr0000gn/T/ipykernel_53421/2197568928.py:4: DtypeWarning: Columns (12,29) have mixed types. Specify dtype option on import or set low_memory=False.\n",
      "  df = pd.read_csv(\"TotalFACT.csv\")  # 파일 이름을 적절히 변경하세요\n"
     ]
    }
   ],
   "source": [
    "import pandas as pd\n",
    "\n",
    "# CSV 파일 읽기\n",
    "df = pd.read_csv(\"TotalFACT.csv\")  # 파일 이름을 적절히 변경하세요\n",
    "\n",
    "# \"지식산업센터명\" 열에서 비어 있지 않고 공백이 아닌 값의 행 필터링\n",
    "filtered_df = df[df[\"지식산업센터명\"].notnull() & (df[\"지식산업센터명\"] != \" \")]\n",
    "\n",
    "# 필터링된 데이터프레임을 새로운 CSV 파일로 저장\n",
    "filtered_df.to_csv(\"FACT_InKIC.csv\", index=False, encoding=\"utf-8-sig\")"
   ]
  }
 ],
 "metadata": {
  "kernelspec": {
   "display_name": "Python 3",
   "language": "python",
   "name": "python3"
  },
  "language_info": {
   "codemirror_mode": {
    "name": "ipython",
    "version": 3
   },
   "file_extension": ".py",
   "mimetype": "text/x-python",
   "name": "python",
   "nbconvert_exporter": "python",
   "pygments_lexer": "ipython3",
   "version": "3.10.6"
  }
 },
 "nbformat": 4,
 "nbformat_minor": 2
}
