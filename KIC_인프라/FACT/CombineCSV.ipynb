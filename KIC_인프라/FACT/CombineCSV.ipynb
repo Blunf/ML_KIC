{
 "cells": [
  {
   "cell_type": "code",
   "execution_count": null,
   "metadata": {},
   "outputs": [],
   "source": [
    "import pandas as pd\n",
    "\n",
    "\n",
    "df1 = pd.read_csv('FACT_Cord_1.csv')\n",
    "df2 = pd.read_csv('FACT_Cord_2.csv')\n",
    "df3 = pd.read_csv('FACT_Cord_3.csv')\n",
    "df4 = pd.read_csv('FACT_Cord_4.csv')\n",
    "df5 = pd.read_csv('FACT_Cord_5.csv')\n",
    "df6 = pd.read_csv('FACT_Cord_6(15만_16만).csv')\n",
    "df7 = pd.read_csv('FACT_Cord_Sample_1.csv')\n",
    "df8 = pd.read_csv('FACT_Cord_Sample_2.csv')\n",
    "df9 = pd.read_csv('FACT_Cord_Sample_3.csv')\n",
    "df10 = pd.read_csv('FACT_Cord_Sample_4.csv')\n",
    "df11 = pd.read_csv('FACT_Cord_Sample_5.csv')\n",
    "df12 = pd.read_csv('FACT_Cord_Sample_6.csv')\n",
    "df13 = pd.read_csv('FACT_Cord_Sample_7.csv')\n",
    "df14 = pd.read_csv('FACT_Cord_Sample_8.csv')\n",
    "df15 = pd.read_csv('FACT_Cord_Sample_9.csv')\n",
    "df16 = pd.read_csv('FACT_Cord_Sample_10.csv')\n",
    "df17 = pd.read_csv('FACT_Cord_Sample_11.csv')\n",
    "df18 = pd.read_csv('FACT_Cord_Sample_12.csv')\n",
    "\n",
    "    \n",
    "combined_df = pd.concat([df1, df2, df3, df4, df5, df6, df7, df8, df9, df10, df11, df12, df13, df14, df15, df16, df17, df18], ignore_index=True)\n",
    "\n",
    "\n",
    "combined_df.to_csv('FACT_Cord.csv', index=False, encoding='utf-8-sig')"
   ]
  }
 ],
 "metadata": {
  "kernelspec": {
   "display_name": "Python 3",
   "language": "python",
   "name": "python3"
  },
  "language_info": {
   "codemirror_mode": {
    "name": "ipython",
    "version": 3
   },
   "file_extension": ".py",
   "mimetype": "text/x-python",
   "name": "python",
   "nbconvert_exporter": "python",
   "pygments_lexer": "ipython3",
   "version": "3.10.6"
  }
 },
 "nbformat": 4,
 "nbformat_minor": 2
}
