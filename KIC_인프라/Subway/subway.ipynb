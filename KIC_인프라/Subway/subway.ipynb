{
 "cells": [
  {
   "cell_type": "code",
   "execution_count": 3,
   "metadata": {},
   "outputs": [
    {
     "name": "stdout",
     "output_type": "stream",
     "text": [
      "가장 가까운 역: 시흥사거리역 (2026년 12월 예정), 거리: 1119.4m\n"
     ]
    }
   ],
   "source": [
    "import requests\n",
    "from geopy.distance import geodesic\n",
    "\n",
    "def get_nearest_subway_station(lat, lon, kakao_api_key):\n",
    "    headers = {\"Authorization\": f\"KakaoAK {kakao_api_key}\"}\n",
    "    \n",
    "    url = \"https://dapi.kakao.com/v2/local/search/keyword.json\"\n",
    "    params = {\n",
    "        \"query\": \"지하철역\",\n",
    "        \"x\": lon,\n",
    "        \"y\": lat,\n",
    "        \"radius\": 2000,\n",
    "        \"sort\": \"distance\"\n",
    "    }\n",
    "    \n",
    "    response = requests.get(url, headers=headers, params=params)\n",
    "    result = response.json()\n",
    "    if not result['documents']:\n",
    "        return None, None, None\n",
    "    \n",
    "    nearest = result['documents'][0]\n",
    "    station_name = nearest['place_name']\n",
    "    station_lat = float(nearest['y'])\n",
    "    station_lon = float(nearest['x'])\n",
    "\n",
    "    distance = geodesic((lat, lon), (station_lat, station_lon)).meters\n",
    "    return station_name, (station_lat, station_lon), distance\n",
    "\n",
    "kakao_api_key = \"f32e9311c06e941799af2d38345741de\"\n",
    "lat, lon = 37.4456097972955,126.893893353662\n",
    "station, coords, dist = get_nearest_subway_station(lat, lon, kakao_api_key)\n",
    "print(f\"가장 가까운 역: {station}, 거리: {dist:.1f}m\")"
   ]
  },
  {
   "cell_type": "code",
   "execution_count": 7,
   "metadata": {},
   "outputs": [
    {
     "name": "stdout",
     "output_type": "stream",
     "text": [
      "API Error: {'code': -2, 'msg': 'Invalid Parameter (x)'}\n",
      "Exception: Point coordinates must be finite. (1.0, nan, 0.0) has been passed as coordinates.\n"
     ]
    }
   ],
   "source": [
    "import pandas as pd\n",
    "import requests\n",
    "from geopy.distance import geodesic\n",
    "import time\n",
    "\n",
    "def get_nearest_subway_station(lat, lon, kakao_api_key):\n",
    "    headers = {\"Authorization\": f\"KakaoAK {kakao_api_key}\"}\n",
    "    url = \"https://dapi.kakao.com/v2/local/search/keyword.json\"\n",
    "    params = {\n",
    "        \"query\": \"지하철역\",\n",
    "        \"x\": lon,\n",
    "        \"y\": lat,\n",
    "        \"radius\": 2000,\n",
    "        \"sort\": \"distance\"\n",
    "    }\n",
    "    try:\n",
    "        response = requests.get(url, headers=headers, params=params)\n",
    "        result = response.json()\n",
    "        # documents 키가 없으면 에러 메시지 출력\n",
    "        if 'documents' not in result:\n",
    "            print(f\"API Error: {result}\")\n",
    "            return None, None\n",
    "        if not result['documents']:\n",
    "            return None, None\n",
    "        nearest = result['documents'][0]\n",
    "        station_name = nearest['place_name']\n",
    "        station_lat = float(nearest['y'])\n",
    "        station_lon = float(nearest['x'])\n",
    "        distance = geodesic((lat, lon), (station_lat, station_lon)).meters\n",
    "        return station_name, distance\n",
    "    except Exception as e:\n",
    "        print(f\"Exception: {e}\")\n",
    "        return None, None\n",
    "\n",
    "df = pd.read_csv('../KIC/KIC_Cord.csv', header=None, names=['name', 'lat', 'lon'])\n",
    "\n",
    "kakao_api_key = \"f32e9311c06e941799af2d38345741de\"\n",
    "\n",
    "results = []\n",
    "\n",
    "for idx, row in df.iterrows():\n",
    "    lat, lon = row['lat'], row['lon']\n",
    "    station, dist = get_nearest_subway_station(lat, lon, kakao_api_key)\n",
    "    results.append([row['name'], lat, lon, station, dist])\n",
    "    time.sleep(0.2)\n",
    "\n",
    "result_df = pd.DataFrame(results, columns=['name', 'lat', 'lon', 'nearest_station', 'distance'])\n",
    "\n",
    "result_df.to_csv('KIC-Subway.csv', index=False, encoding='utf-8-sig')"
   ]
  }
 ],
 "metadata": {
  "kernelspec": {
   "display_name": "Python 3",
   "language": "python",
   "name": "python3"
  },
  "language_info": {
   "codemirror_mode": {
    "name": "ipython",
    "version": 3
   },
   "file_extension": ".py",
   "mimetype": "text/x-python",
   "name": "python",
   "nbconvert_exporter": "python",
   "pygments_lexer": "ipython3",
   "version": "3.10.6"
  }
 },
 "nbformat": 4,
 "nbformat_minor": 2
}
