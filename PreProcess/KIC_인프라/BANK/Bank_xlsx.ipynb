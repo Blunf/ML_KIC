{
 "cells": [
  {
   "cell_type": "code",
   "execution_count": null,
   "metadata": {},
   "outputs": [
    {
     "name": "stderr",
     "output_type": "stream",
     "text": [
      "100%|██████████| 602/602 [02:54<00:00,  3.45it/s]"
     ]
    },
    {
     "name": "stdout",
     "output_type": "stream",
     "text": [
      "저장 완료!\n"
     ]
    },
    {
     "name": "stderr",
     "output_type": "stream",
     "text": [
      "\n"
     ]
    }
   ],
   "source": [
    "import pandas as pd\n",
    "import requests\n",
    "from tqdm import tqdm\n",
    "import time\n",
    "KAKAO_API_KEY = \"f32e9311c06e941799af2d38345741de\"\n",
    "HEADERS = {\"Authorization\": f\"KakaoAK {KAKAO_API_KEY}\"}\n",
    "\n",
    "df = pd.read_excel(\"202412_BankData.xlsx\")\n",
    "\n",
    "df_nh = df[df.iloc[:, 0].astype(str).str.contains(\"하나\")].copy()\n",
    "\n",
    "latitudes = []\n",
    "longitudes = []\n",
    "\n",
    "for address in tqdm(df_nh.iloc[:, 7]):  # 8열(0-indexed)\n",
    "    url = \"https://dapi.kakao.com/v2/local/search/address.json\"\n",
    "    params = {\"query\": address}\n",
    "    response = requests.get(url, headers=HEADERS, params=params)\n",
    "    result = response.json()\n",
    "    if result.get(\"documents\"):\n",
    "        latitudes.append(result[\"documents\"][0][\"y\"])\n",
    "        longitudes.append(result[\"documents\"][0][\"x\"])\n",
    "    else:\n",
    "        latitudes.append(None)\n",
    "        longitudes.append(None)\n",
    "    time.sleep(0.2)\n",
    "\n",
    "\n",
    "df_nh[\"위도\"] = latitudes\n",
    "df_nh[\"경도\"] = longitudes\n",
    "df_nh.to_csv(\"하나_Bank.csv\", index=False, encoding=\"utf-8-sig\")\n",
    "print(\"저장 완료!\")"
   ]
  }
 ],
 "metadata": {
  "kernelspec": {
   "display_name": "Python 3",
   "language": "python",
   "name": "python3"
  },
  "language_info": {
   "codemirror_mode": {
    "name": "ipython",
    "version": 3
   },
   "file_extension": ".py",
   "mimetype": "text/x-python",
   "name": "python",
   "nbconvert_exporter": "python",
   "pygments_lexer": "ipython3",
   "version": "3.10.6"
  }
 },
 "nbformat": 4,
 "nbformat_minor": 2
}
