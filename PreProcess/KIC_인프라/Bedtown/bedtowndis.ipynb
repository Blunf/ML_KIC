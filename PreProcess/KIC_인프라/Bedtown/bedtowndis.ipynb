{
 "cells": [
  {
   "cell_type": "code",
   "execution_count": null,
   "metadata": {},
   "outputs": [
    {
     "name": "stdout",
     "output_type": "stream",
     "text": [
      "처리 완료! 결과가 'KIC-BedTown.csv'에 저장되었습니다.\n"
     ]
    }
   ],
   "source": [
    "\n",
    "import pandas as pd\n",
    "from geopy.distance import geodesic\n",
    "import numpy as np\n",
    "\n",
    "bedtowns = {\n",
    "    \"일산신도시\": (37.67409626845664, 126.77518931004452),\n",
    "    \"창릉신도시\": (37.64408237446398, 126.89381817847466),\n",
    "    \"운정신도시\": (37.727531857651265, 126.75625292827498),\n",
    "    \"김포한강신도시\": (37.6435481203051, 126.66527140597842),\n",
    "    \"별내신도시\": (37.65876373748755, 127.11882127363995),\n",
    "    \"다산신도시\": (37.61728434371223, 127.15861617361394),\n",
    "    \"평촌신도시\": (37.390499690821855, 126.96612364628916),\n",
    "    \"옥정신도시\": (37.82194074665298, 127.09120912484074),\n",
    "    \"산본신도시\": (37.36312516807268, 126.9309369830095),\n",
    "    \"미사신도시\": (37.56922232907612, 127.20535488118766),\n",
    "    \"중동신도시\": (37.48845061760665, 126.78085008876731),\n",
    "    \"대장신도시\": (37.54368672816581, 126.77639784065802),\n",
    "    \"양산물금신도시\": (35.318952517622314, 129.00360619044892),\n",
    "    \"세종특별자치시\": (36.525071138830654, 127.27112167514544),\n",
    "    \"광주전남공동혁신도시\": (35.01972532043204, 126.7881795395768)\n",
    "}\n",
    "\n",
    "\n",
    "\n",
    "def find_nearest_bedtown(lat, lon, bedtowns):\n",
    "    user_location = (lat, lon)\n",
    "    nearest_town = None\n",
    "    min_distance = float('inf')\n",
    "    for town, coord in bedtowns.items():\n",
    "        distance = geodesic(user_location, coord).km\n",
    "        if distance < min_distance:\n",
    "            min_distance = distance\n",
    "            nearest_town = town\n",
    "    return nearest_town, min_distance\n",
    "\n",
    "def process_data(file_path):\n",
    "    df = pd.read_csv(file_path)\n",
    "    results = []\n",
    "\n",
    "    for idx, row in df.iterrows():\n",
    "        name = row.get('센터명', '')\n",
    "        try:\n",
    "            lat = float(row['위도'])\n",
    "            lon = float(row['경도'])\n",
    "            if np.isnan(lat) or np.isnan(lon):\n",
    "                continue\n",
    "            nearest_town, distance = find_nearest_bedtown(lat, lon, bedtowns)\n",
    "            results.append([name, lat, lon, nearest_town, distance])\n",
    "        except Exception as e:\n",
    "            print(f\"skip: {name}, error: {e}\")\n",
    "            continue\n",
    "\n",
    "    result_df = pd.DataFrame(results, columns=['센터명', '위도', '경도', '가장 가까운 베드타운', '거리(km)'])\n",
    "    return result_df\n",
    "\n",
    "if __name__ == \"__main__\":\n",
    "    file_path = '../KIC/KIC_Cord.csv'\n",
    "    result_df = process_data(file_path)\n",
    "    result_df.to_csv('KIC-BedTown.csv', index=False, encoding='utf-8-sig')\n",
    "    print(\"처리 완료! 결과가 'KIC-BedTown.csv'에 저장되었습니다.\")"
   ]
  }
 ],
 "metadata": {
  "kernelspec": {
   "display_name": "Python 3",
   "language": "python",
   "name": "python3"
  },
  "language_info": {
   "codemirror_mode": {
    "name": "ipython",
    "version": 3
   },
   "file_extension": ".py",
   "mimetype": "text/x-python",
   "name": "python",
   "nbconvert_exporter": "python",
   "pygments_lexer": "ipython3",
   "version": "3.10.6"
  }
 },
 "nbformat": 4,
 "nbformat_minor": 2
}
