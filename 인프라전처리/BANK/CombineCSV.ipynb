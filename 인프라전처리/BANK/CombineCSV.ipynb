{
 "cells": [
  {
   "cell_type": "code",
   "execution_count": 3,
   "metadata": {},
   "outputs": [],
   "source": [
    "import pandas as pd\n",
    "\n",
    "df1 = pd.read_csv('경남_Bank.csv')\n",
    "df1 = df1.iloc[:, [0,9, 10]].copy()\n",
    "df2 = pd.read_csv('광주_Bank.csv')\n",
    "df2 = df2.iloc[:, [0,9, 10]].copy()\n",
    "df3 = pd.read_csv('국민_Bank.csv')\n",
    "df4 = pd.read_csv('기업_Bank.csv')\n",
    "df5 = pd.read_csv('농협_Bank.csv')\n",
    "df5 = df5.iloc[:, [0,9, 10]].copy()\n",
    "df6 = pd.read_csv('뱅크iM_Bank.csv')\n",
    "df6 = df6.iloc[:, [0,9, 10]].copy()\n",
    "df7 = pd.read_csv('부산_Bank.csv')\n",
    "df8 = pd.read_csv('산업_Bank.csv')\n",
    "df9 = pd.read_csv('수출입_Bank.csv')\n",
    "df9 = df9.iloc[:, [0,9, 10]].copy()\n",
    "df10 = pd.read_csv('수협_Bank.csv')\n",
    "df11= pd.read_csv('신한_Bank.csv')\n",
    "df11 = df11.iloc[:, [0,9, 10]].copy()\n",
    "df12 = pd.read_csv('씨티_Bank.csv')\n",
    "df13 = pd.read_csv('우리_Bank.csv')\n",
    "df14 = pd.read_csv('전북_Bank.csv')\n",
    "df15 = pd.read_csv('제일_Bank.csv')\n",
    "df15 = df15.iloc[:, [0,9, 10]].copy()\n",
    "df16 = pd.read_csv('제주_Bank.csv')\n",
    "df16 = df16.iloc[:, [0,9, 10]].copy()\n",
    "df17 = pd.read_csv('하나_Bank.csv')\n",
    "df17 = df17.iloc[:, [0,9, 10]].copy()\n",
    "\n",
    "\n",
    "for df in [df1, df2, df3, df4, df5, df6, df7, df8, df9, df10, df11, df12, df13, df14, df15, df16, df17]:\n",
    "    df.columns = ['이름', '위도', '경도']  # 컬럼명 강제 통일\n",
    "combined_df = pd.concat([df1, df2, df3, df4, df5, df6, df7, df8, df9, df10, df11, df12, df13, df14, df15, df16, df17], ignore_index=True)\n",
    "\n",
    "# 합친 데이터프레임을 CSV 파일로 저장\n",
    "combined_df.to_csv('combined_banks.csv', index=False, encoding='utf-8-sig')"
   ]
  }
 ],
 "metadata": {
  "kernelspec": {
   "display_name": "Python 3",
   "language": "python",
   "name": "python3"
  },
  "language_info": {
   "codemirror_mode": {
    "name": "ipython",
    "version": 3
   },
   "file_extension": ".py",
   "mimetype": "text/x-python",
   "name": "python",
   "nbconvert_exporter": "python",
   "pygments_lexer": "ipython3",
   "version": "3.10.6"
  }
 },
 "nbformat": 4,
 "nbformat_minor": 2
}
