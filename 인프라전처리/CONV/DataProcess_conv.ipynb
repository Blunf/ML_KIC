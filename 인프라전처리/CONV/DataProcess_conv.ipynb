{
 "cells": [
  {
   "cell_type": "code",
   "execution_count": 4,
   "metadata": {},
   "outputs": [
    {
     "name": "stderr",
     "output_type": "stream",
     "text": [
      "C:\\Users\\santa\\AppData\\Local\\Temp\\ipykernel_10896\\1045472045.py:10: DtypeWarning: Columns (35) have mixed types. Specify dtype option on import or set low_memory=False.\n",
      "  df_all = pd.concat([pd.read_csv(file) for file in file_list], ignore_index=True)\n",
      "C:\\Users\\santa\\AppData\\Local\\Temp\\ipykernel_10896\\1045472045.py:10: DtypeWarning: Columns (35) have mixed types. Specify dtype option on import or set low_memory=False.\n",
      "  df_all = pd.concat([pd.read_csv(file) for file in file_list], ignore_index=True)\n"
     ]
    }
   ],
   "source": [
    "import pandas as pd\n",
    "import glob\n",
    "import os\n",
    "\n",
    "\n",
    "folder_path = '소상공인시장진흥공단_상가(상권)정보_20250331'\n",
    "file_list = glob.glob(os.path.join(folder_path, '*.csv'))"
   ]
  },
  {
   "cell_type": "code",
   "execution_count": null,
   "metadata": {},
   "outputs": [
    {
     "name": "stderr",
     "output_type": "stream",
     "text": [
      "C:\\Users\\santa\\AppData\\Local\\Temp\\ipykernel_10896\\3061290444.py:2: DtypeWarning: Columns (35) have mixed types. Specify dtype option on import or set low_memory=False.\n",
      "  df_all = pd.concat([pd.read_csv(file) for file in file_list], ignore_index=True)\n",
      "C:\\Users\\santa\\AppData\\Local\\Temp\\ipykernel_10896\\3061290444.py:2: DtypeWarning: Columns (35) have mixed types. Specify dtype option on import or set low_memory=False.\n",
      "  df_all = pd.concat([pd.read_csv(file) for file in file_list], ignore_index=True)\n"
     ]
    },
    {
     "name": "stdout",
     "output_type": "stream",
     "text": [
      "                   상가업소번호          상호명  지점명          경도         위도\n",
      "119  MA010120220800061693    세븐일레븐강릉홍제  드림점  128.888647  37.752978\n",
      "236  MA010120220800095581      지에스25포남  제일점  128.919919  37.769355\n",
      "299  MA010120220800114133  이마트24평창월정사점  NaN  128.601876  37.716651\n",
      "321  MA010120220800149576   세븐일레븐포남으뜸점  NaN  128.911417  37.771015\n",
      "375  MA010120220800151634  GS25고성율곡부대점  NaN  128.501945  38.284945\n"
     ]
    }
   ],
   "source": [
    "df_all = pd.concat([pd.read_csv(file) for file in file_list], ignore_index=True)\n",
    "\n",
    "\n",
    "df_convenience = df_all[df_all['상권업종소분류명'] == '편의점']\n",
    "columns_to_keep = ['상가업소번호', '상호명', '지점명', '경도', '위도']\\\n",
    "\n",
    "\n",
    "df_convenience = df_convenience[columns_to_keep]\n",
    "\n",
    "\n",
    "print(df_convenience.head())\n",
    "df_convenience.to_csv('편의점_최종_필터링.csv', index=False, encoding='utf-8-sig')"
   ]
  }
 ],
 "metadata": {
  "kernelspec": {
   "display_name": "Python 3",
   "language": "python",
   "name": "python3"
  },
  "language_info": {
   "codemirror_mode": {
    "name": "ipython",
    "version": 3
   },
   "file_extension": ".py",
   "mimetype": "text/x-python",
   "name": "python",
   "nbconvert_exporter": "python",
   "pygments_lexer": "ipython3",
   "version": "3.10.11"
  }
 },
 "nbformat": 4,
 "nbformat_minor": 2
}
