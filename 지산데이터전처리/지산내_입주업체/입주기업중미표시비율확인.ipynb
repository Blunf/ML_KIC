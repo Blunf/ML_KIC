{
 "cells": [
  {
   "cell_type": "code",
   "execution_count": 4,
   "metadata": {},
   "outputs": [
    {
     "name": "stdout",
     "output_type": "stream",
     "text": [
      "📊 2열 총 개수: 51146\n",
      "❌ 비어있는 칸 개수: 468\n",
      "⚠️ 빈 칸 비율: 0.92%\n"
     ]
    },
    {
     "name": "stderr",
     "output_type": "stream",
     "text": [
      "/var/folders/gh/rmj80qln5tz2v55hd102xqhr0000gn/T/ipykernel_12044/3416307965.py:7: DtypeWarning: Columns (7,27) have mixed types. Specify dtype option on import or set low_memory=False.\n",
      "  df = pd.read_csv(file_path)\n"
     ]
    }
   ],
   "source": [
    "import pandas as pd\n",
    "\n",
    "# CSV 파일 경로\n",
    "file_path = \"전국지식산업센터_입주업체.csv\"\n",
    "\n",
    "# CSV 파일 읽기\n",
    "df = pd.read_csv(file_path)\n",
    "\n",
    "# 2열 추출 (열 인덱스는 1부터 시작하므로 df.iloc[:, 1])\n",
    "column_data = df.iloc[:, 1]\n",
    "\n",
    "# 총 개수 계산\n",
    "total_count = len(column_data)\n",
    "\n",
    "# 빈 칸 개수 계산 (NaN 포함)\n",
    "empty_count = column_data.isna().sum()\n",
    "\n",
    "# 결과 출력\n",
    "print(f\"📊 2열 총 개수: {total_count}\")\n",
    "print(f\"❌ 비어있는 칸 개수: {empty_count}\")\n",
    "\n",
    "# 빈 칸 비율 계산\n",
    "empty_ratio = (empty_count / total_count) * 100\n",
    "print(f\"⚠️ 빈 칸 비율: {empty_ratio:.2f}%\")"
   ]
  }
 ],
 "metadata": {
  "kernelspec": {
   "display_name": "Python 3",
   "language": "python",
   "name": "python3"
  },
  "language_info": {
   "codemirror_mode": {
    "name": "ipython",
    "version": 3
   },
   "file_extension": ".py",
   "mimetype": "text/x-python",
   "name": "python",
   "nbconvert_exporter": "python",
   "pygments_lexer": "ipython3",
   "version": "3.10.6"
  }
 },
 "nbformat": 4,
 "nbformat_minor": 2
}
