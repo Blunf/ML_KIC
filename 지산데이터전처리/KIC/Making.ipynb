{
 "cells": [
  {
   "cell_type": "code",
   "execution_count": 4,
   "id": "b44c7774",
   "metadata": {},
   "outputs": [
    {
     "name": "stdout",
     "output_type": "stream",
     "text": [
      "       인덱스                 센터명         위도          경도\n",
      "0        0     강릉 공공임대형 지식산업센터  37.806207  128.854086\n",
      "1        1            동해지식산업센터  37.481576  129.133811\n",
      "2        2              표준공장1동  37.480842  129.153095\n",
      "3        3              표준공장2동  37.480842  129.153095\n",
      "4        4              표준공장3동  37.480842  129.153095\n",
      "...    ...                 ...        ...         ...\n",
      "1423  1423  스타에이치(벤처스마트복합산업센터)  36.640326  127.439364\n",
      "1424  1424                직지스타  36.640757  127.440417\n",
      "1425  1425            청주테크노S타워  36.643153  127.452155\n",
      "1426  1426               티원타워   36.638478  127.444759\n",
      "1427  1427           충주 지식산업센터  37.003496  127.822828\n",
      "\n",
      "[1428 rows x 4 columns]\n"
     ]
    }
   ],
   "source": [
    "import pandas as pd\n",
    "\n",
    "df = pd.read_csv(\"KIC_Cord.csv\", encoding=\"utf-8\")\n",
    "\n",
    "df.insert(0, '인덱스', range(len(df)))\n",
    "\n",
    "print(df)\n",
    "\n",
    "df.to_csv(\"수정된파일경로.csv\", index=False, encoding=\"utf-8\")"
   ]
  },
  {
   "cell_type": "code",
   "execution_count": 15,
   "id": "66429679",
   "metadata": {},
   "outputs": [
    {
     "name": "stdout",
     "output_type": "stream",
     "text": [
      "       인덱스                 센터명         위도          경도 은행 편의점\n",
      "0        0     강릉 공공임대형 지식산업센터  37.806207  128.854086  E   E\n",
      "1        1            동해지식산업센터  37.481576  129.133811  C   E\n",
      "2        2              표준공장1동  37.480842  129.153095  E   E\n",
      "3        3              표준공장2동  37.480842  129.153095  E   E\n",
      "4        4              표준공장3동  37.480842  129.153095  E   E\n",
      "...    ...                 ...        ...         ... ..  ..\n",
      "1423  1423  스타에이치(벤처스마트복합산업센터)  36.640326  127.439364  B   B\n",
      "1424  1424                직지스타  36.640757  127.440417  B   C\n",
      "1425  1425            청주테크노S타워  36.643153  127.452155  B   D\n",
      "1426  1426               티원타워   36.638478  127.444759  C   C\n",
      "1427  1427           충주 지식산업센터  37.003496  127.822828  E   D\n",
      "\n",
      "[1428 rows x 6 columns]\n"
     ]
    }
   ],
   "source": [
    "import pandas as pd\n",
    "\n",
    "df = pd.read_csv(\"KIC.csv\", encoding=\"utf-8\")\n",
    "\n",
    "df1 = pd.read_csv(\"/Users/besuperst/Library/Mobile Documents/com~apple~CloudDocs/DEV/DataDev/ML_KIC/인프라전처리/CONV/편의점150m몇개.csv\", encoding=\"cp949\")\n",
    "\n",
    "new_column_name = \"편의점\"\n",
    "df[new_column_name] = df1.iloc[:, 11] # df1의 3열(인덱스 2)을 추가\n",
    "\n",
    "print(df)\n",
    "\n",
    "df.to_csv(\"KIC.csv\", index=False, encoding=\"utf-8\")"
   ]
  },
  {
   "cell_type": "markdown",
   "id": "a8f34644",
   "metadata": {},
   "source": [
    "...........................지하철점수 조인........................................."
   ]
  },
  {
   "cell_type": "code",
   "execution_count": 2,
   "id": "a8dba133",
   "metadata": {},
   "outputs": [
    {
     "name": "stdout",
     "output_type": "stream",
     "text": [
      "       인덱스                 센터명         위도          경도 은행 편의점  지하철_개수  \\\n",
      "0        0     강릉 공공임대형 지식산업센터  37.806207  128.854086  E   E       0   \n",
      "1        1            동해지식산업센터  37.481576  129.133811  C   E       0   \n",
      "2        2              표준공장1동  37.480842  129.153095  E   E       0   \n",
      "3        3              표준공장2동  37.480842  129.153095  E   E       0   \n",
      "4        4              표준공장3동  37.480842  129.153095  E   E       0   \n",
      "...    ...                 ...        ...         ... ..  ..     ...   \n",
      "1423  1423  스타에이치(벤처스마트복합산업센터)  36.640326  127.439364  B   B       0   \n",
      "1424  1424                직지스타  36.640757  127.440417  B   C       0   \n",
      "1425  1425            청주테크노S타워  36.643153  127.452155  B   D       0   \n",
      "1426  1426               티원타워   36.638478  127.444759  C   C       0   \n",
      "1427  1427           충주 지식산업센터  37.003496  127.822828  E   D       0   \n",
      "\n",
      "      가중_평균_접근성  \n",
      "0           0.0  \n",
      "1           0.0  \n",
      "2           0.0  \n",
      "3           0.0  \n",
      "4           0.0  \n",
      "...         ...  \n",
      "1423        0.0  \n",
      "1424        0.0  \n",
      "1425        0.0  \n",
      "1426        0.0  \n",
      "1427        0.0  \n",
      "\n",
      "[1428 rows x 8 columns]\n"
     ]
    }
   ],
   "source": [
    "import pandas as pd\n",
    "\n",
    "# 데이터 로드\n",
    "kic_df = pd.read_csv(\"KIC.csv\", encoding=\"utf-8\")\n",
    "subway_df = pd.read_csv(\"/Users/besuperst/Library/Mobile Documents/com~apple~CloudDocs/DEV/DataDev/ML_KIC/인프라전처리/Subway/Subway_Score.csv\", encoding=\"utf-8\")\n",
    "\n",
    "# 'center_name' 기준으로 조인\n",
    "merged_df = kic_df.merge(\n",
    "    subway_df[['center_name', '지하철_개수', '가중_평균_접근성']],  # 필요한 열만 선택\n",
    "    how='left',  # 왼쪽 조인: KIC.csv 기준으로 조인\n",
    "    left_on='센터명',  # KIC.csv의 센터명\n",
    "    right_on='center_name'  # Subway_Score.csv의 center_name\n",
    ")\n",
    "\n",
    "# 주변에 지하철이 없는 경우 0으로 채우기\n",
    "merged_df['지하철_개수'] = merged_df['지하철_개수'].fillna(0).astype(int)  # NaN → 0, 정수형 변환\n",
    "merged_df['가중_평균_접근성'] = merged_df['가중_평균_접근성'].fillna(0)  # NaN → 0\n",
    "\n",
    "# 'center_name' 열 삭제 (필요 없으면)\n",
    "merged_df = merged_df.drop(columns=['center_name'])\n",
    "\n",
    "# 결과 확인\n",
    "print(merged_df)\n",
    "\n",
    "# 결과 저장\n",
    "merged_df.to_csv(\"KIC_지하철_결과.csv\", index=False, encoding=\"utf-8\")"
   ]
  },
  {
   "cell_type": "code",
   "execution_count": 4,
   "id": "2cc8621b",
   "metadata": {},
   "outputs": [
    {
     "name": "stdout",
     "output_type": "stream",
     "text": [
      "                     센터명  가장 가까운 국도까지 거리(km)  가장 가까운 고속도로까지 거리(km)\n",
      "0        강릉 공공임대형 지식산업센터                0.91                  7.81\n",
      "1               동해지식산업센터                3.65                  6.42\n",
      "2                 표준공장1동                5.65                  9.70\n",
      "3                 표준공장2동                5.65                  9.70\n",
      "4                 표준공장3동                5.65                  9.70\n",
      "...                  ...                 ...                   ...\n",
      "1423  스타에이치(벤처스마트복합산업센터)                4.07                  2.94\n",
      "1424                직지스타                4.24                  3.11\n",
      "1425            청주테크노S타워                4.96                  3.99\n",
      "1426               티원타워                 4.70                  3.56\n",
      "1427           충주 지식산업센터                4.23                  3.73\n",
      "\n",
      "[1428 rows x 3 columns]\n"
     ]
    }
   ],
   "source": [
    "df = pd.read_csv(\"/Users/besuperst/Library/Mobile Documents/com~apple~CloudDocs/DEV/DataDev/ML_KIC/인프라전처리/Road/KIC_Road.csv\", encoding=\"utf-8\")\n",
    "\n",
    "\n",
    "# 2열과 3열 값을 소수점 둘째 자리까지만 남기기\n",
    "df.iloc[:, 1] = df.iloc[:, 1].round(2)  # 2열 (인덱스 1)\n",
    "df.iloc[:, 2] = df.iloc[:, 2].round(2)  # 3열 (인덱스 2)\n",
    "\n",
    "# 결과 확인\n",
    "print(df)\n",
    "\n",
    "# 결과 저장\n",
    "df.to_csv(\"KIC_Road.csv\", index=False, encoding=\"utf-8\")"
   ]
  },
  {
   "cell_type": "code",
   "execution_count": 5,
   "id": "16051fde",
   "metadata": {},
   "outputs": [
    {
     "name": "stdout",
     "output_type": "stream",
     "text": [
      "       인덱스                 센터명         위도          경도 은행 편의점  지하철_개수  \\\n",
      "0        0     강릉 공공임대형 지식산업센터  37.806207  128.854086  E   E       0   \n",
      "1        1            동해지식산업센터  37.481576  129.133811  C   E       0   \n",
      "2        2              표준공장1동  37.480842  129.153095  E   E       0   \n",
      "3        3              표준공장2동  37.480842  129.153095  E   E       0   \n",
      "4        4              표준공장3동  37.480842  129.153095  E   E       0   \n",
      "...    ...                 ...        ...         ... ..  ..     ...   \n",
      "1423  1423  스타에이치(벤처스마트복합산업센터)  36.640326  127.439364  B   B       0   \n",
      "1424  1424                직지스타  36.640757  127.440417  B   C       0   \n",
      "1425  1425            청주테크노S타워  36.643153  127.452155  B   D       0   \n",
      "1426  1426               티원타워   36.638478  127.444759  C   C       0   \n",
      "1427  1427           충주 지식산업센터  37.003496  127.822828  E   D       0   \n",
      "\n",
      "      가중_평균_접근성  가장 가까운 국도까지 거리(km)  가장 가까운 고속도로까지 거리(km)  \n",
      "0           0.0                0.91                  7.81  \n",
      "1           0.0                3.65                  6.42  \n",
      "2           0.0                5.65                  9.70  \n",
      "3           0.0                5.65                  9.70  \n",
      "4           0.0                5.65                  9.70  \n",
      "...         ...                 ...                   ...  \n",
      "1423        0.0                4.07                  2.94  \n",
      "1424        0.0                4.24                  3.11  \n",
      "1425        0.0                4.96                  3.99  \n",
      "1426        0.0                4.70                  3.56  \n",
      "1427        0.0                4.23                  3.73  \n",
      "\n",
      "[1428 rows x 10 columns]\n"
     ]
    }
   ],
   "source": [
    "import pandas as pd\n",
    "\n",
    "# 데이터 로드\n",
    "kic_df = pd.read_csv(\"KIC.csv\", encoding=\"utf-8\")\n",
    "kic_road_df = pd.read_csv(\"KIC_Road.csv\", encoding=\"utf-8\")\n",
    "\n",
    "# KIC_Road 데이터의 2열과 3열을 새로운 열로 추가\n",
    "kic_df['가장 가까운 국도까지 거리(km)'] = kic_road_df.iloc[:, 1]  # KIC_Road의 2열\n",
    "kic_df['가장 가까운 고속도로까지 거리(km)'] = kic_road_df.iloc[:, 2]  # KIC_Road의 3열\n",
    "\n",
    "# 결과 확인\n",
    "print(kic_df)\n",
    "\n",
    "# 결과 저장\n",
    "kic_df.to_csv(\"KIC_결과.csv\", index=False, encoding=\"utf-8\")"
   ]
  },
  {
   "cell_type": "code",
   "execution_count": 18,
   "id": "a5cef037",
   "metadata": {},
   "outputs": [
    {
     "data": {
      "text/html": [
       "<div>\n",
       "<style scoped>\n",
       "    .dataframe tbody tr th:only-of-type {\n",
       "        vertical-align: middle;\n",
       "    }\n",
       "\n",
       "    .dataframe tbody tr th {\n",
       "        vertical-align: top;\n",
       "    }\n",
       "\n",
       "    .dataframe thead th {\n",
       "        text-align: right;\n",
       "    }\n",
       "</style>\n",
       "<table border=\"1\" class=\"dataframe\">\n",
       "  <thead>\n",
       "    <tr style=\"text-align: right;\">\n",
       "      <th></th>\n",
       "      <th>번호</th>\n",
       "      <th>센터명</th>\n",
       "      <th>위도</th>\n",
       "      <th>경도</th>\n",
       "      <th>은행</th>\n",
       "      <th>편의점</th>\n",
       "      <th>지하철 개수</th>\n",
       "      <th>지하철 점수</th>\n",
       "      <th>국도(km)</th>\n",
       "      <th>고속도로(km)</th>\n",
       "    </tr>\n",
       "  </thead>\n",
       "  <tbody>\n",
       "    <tr>\n",
       "      <th>0</th>\n",
       "      <td>0</td>\n",
       "      <td>강릉 공공임대형 지식산업센터</td>\n",
       "      <td>37.806207</td>\n",
       "      <td>128.854086</td>\n",
       "      <td>E</td>\n",
       "      <td>E</td>\n",
       "      <td>0</td>\n",
       "      <td>0.0</td>\n",
       "      <td>0.91</td>\n",
       "      <td>7.81</td>\n",
       "    </tr>\n",
       "    <tr>\n",
       "      <th>1</th>\n",
       "      <td>1</td>\n",
       "      <td>동해지식산업센터</td>\n",
       "      <td>37.481576</td>\n",
       "      <td>129.133811</td>\n",
       "      <td>C</td>\n",
       "      <td>E</td>\n",
       "      <td>0</td>\n",
       "      <td>0.0</td>\n",
       "      <td>3.65</td>\n",
       "      <td>6.42</td>\n",
       "    </tr>\n",
       "    <tr>\n",
       "      <th>2</th>\n",
       "      <td>2</td>\n",
       "      <td>표준공장1동</td>\n",
       "      <td>37.480842</td>\n",
       "      <td>129.153095</td>\n",
       "      <td>E</td>\n",
       "      <td>E</td>\n",
       "      <td>0</td>\n",
       "      <td>0.0</td>\n",
       "      <td>5.65</td>\n",
       "      <td>9.70</td>\n",
       "    </tr>\n",
       "    <tr>\n",
       "      <th>3</th>\n",
       "      <td>3</td>\n",
       "      <td>표준공장2동</td>\n",
       "      <td>37.480842</td>\n",
       "      <td>129.153095</td>\n",
       "      <td>E</td>\n",
       "      <td>E</td>\n",
       "      <td>0</td>\n",
       "      <td>0.0</td>\n",
       "      <td>5.65</td>\n",
       "      <td>9.70</td>\n",
       "    </tr>\n",
       "    <tr>\n",
       "      <th>4</th>\n",
       "      <td>4</td>\n",
       "      <td>표준공장3동</td>\n",
       "      <td>37.480842</td>\n",
       "      <td>129.153095</td>\n",
       "      <td>E</td>\n",
       "      <td>E</td>\n",
       "      <td>0</td>\n",
       "      <td>0.0</td>\n",
       "      <td>5.65</td>\n",
       "      <td>9.70</td>\n",
       "    </tr>\n",
       "  </tbody>\n",
       "</table>\n",
       "</div>"
      ],
      "text/plain": [
       "   번호              센터명         위도          경도 은행 편의점  지하철 개수  지하철 점수  국도(km)  \\\n",
       "0   0  강릉 공공임대형 지식산업센터  37.806207  128.854086  E   E       0     0.0    0.91   \n",
       "1   1         동해지식산업센터  37.481576  129.133811  C   E       0     0.0    3.65   \n",
       "2   2           표준공장1동  37.480842  129.153095  E   E       0     0.0    5.65   \n",
       "3   3           표준공장2동  37.480842  129.153095  E   E       0     0.0    5.65   \n",
       "4   4           표준공장3동  37.480842  129.153095  E   E       0     0.0    5.65   \n",
       "\n",
       "   고속도로(km)  \n",
       "0      7.81  \n",
       "1      6.42  \n",
       "2      9.70  \n",
       "3      9.70  \n",
       "4      9.70  "
      ]
     },
     "execution_count": 18,
     "metadata": {},
     "output_type": "execute_result"
    }
   ],
   "source": [
    "df = pd.read_csv(\"KIC.csv\")\n",
    "\n",
    "df.head()"
   ]
  },
  {
   "cell_type": "code",
   "execution_count": null,
   "id": "9b462bdc",
   "metadata": {},
   "outputs": [],
   "source": [
    "df = pd.read_csv(\"KIC.csv\")\n",
    "\n",
    "df.rename(columns={'가장 가까운 고속도로까지 거리(km)': '고속도로(km)'}, inplace=True)\n",
    "\n",
    "df.to_csv(\"KIC.csv\", index=False, encoding=\"utf-8\")"
   ]
  },
  {
   "cell_type": "code",
   "execution_count": 6,
   "id": "f3ec6a78",
   "metadata": {},
   "outputs": [
    {
     "name": "stdout",
     "output_type": "stream",
     "text": [
      "9열의 최대값: 10.11\n"
     ]
    }
   ],
   "source": [
    "import pandas as pd\n",
    "import numpy as np\n",
    "\n",
    "# 데이터 불러오기\n",
    "df = pd.read_csv('KIC.csv')\n",
    "\n",
    "\n",
    "max_value = df.iloc[:, 9].max()  # 9열은 인덱스 8\n",
    "print(\"9열의 최대값:\", max_value)"
   ]
  },
  {
   "cell_type": "code",
   "execution_count": 13,
   "id": "7217c723",
   "metadata": {},
   "outputs": [
    {
     "name": "stdout",
     "output_type": "stream",
     "text": [
      "        번호                 센터명         위도          경도 은행 편의점  지하철 개수  지하철 점수  \\\n",
      "0        0     강릉 공공임대형 지식산업센터  37.806207  128.854086  E   E       0     0.0   \n",
      "1        1            동해지식산업센터  37.481576  129.133811  C   E       0     0.0   \n",
      "2        2              표준공장1동  37.480842  129.153095  E   E       0     0.0   \n",
      "3        3              표준공장2동  37.480842  129.153095  E   E       0     0.0   \n",
      "4        4              표준공장3동  37.480842  129.153095  E   E       0     0.0   \n",
      "...    ...                 ...        ...         ... ..  ..     ...     ...   \n",
      "1423  1423  스타에이치(벤처스마트복합산업센터)  36.640326  127.439364  B   B       0     0.0   \n",
      "1424  1424                직지스타  36.640757  127.440417  B   C       0     0.0   \n",
      "1425  1425            청주테크노S타워  36.643153  127.452155  B   D       0     0.0   \n",
      "1426  1426               티원타워   36.638478  127.444759  C   C       0     0.0   \n",
      "1427  1427           충주 지식산업센터  37.003496  127.822828  E   D       0     0.0   \n",
      "\n",
      "      국도(km)  고속도로(km)      도로점수 도로등급  \n",
      "0       0.91      7.81  1.630069    A  \n",
      "1       3.65      6.42  4.654022    E  \n",
      "2       5.65      9.70  7.140717    E  \n",
      "3       5.65      9.70  7.140717    E  \n",
      "4       5.65      9.70  7.140717    E  \n",
      "...      ...       ...       ...  ...  \n",
      "1423    4.07      2.94  3.413923    C  \n",
      "1424    4.24      3.11  3.588136    D  \n",
      "1425    4.96      3.99  4.422436    D  \n",
      "1426    4.70      3.56  4.051332    D  \n",
      "1427    4.23      3.73  3.964296    D  \n",
      "\n",
      "[1428 rows x 12 columns]\n"
     ]
    }
   ],
   "source": [
    "import pandas as pd\n",
    "import numpy as np\n",
    "\n",
    "# 데이터 불러오기\n",
    "df = pd.read_csv('KIC.csv')\n",
    "\n",
    "# 0을 2000으로 대체\n",
    "for col in ['국도(km)', '고속도로(km)']:\n",
    "    df[col] = df[col].replace(0, 10)\n",
    "\n",
    "# 조화평균 함수 정의\n",
    "def harmonic_mean(row):\n",
    "    vals = row[['국도(km)', '고속도로(km)']]\n",
    "    return len(vals) / np.sum(1.0 / vals)\n",
    "\n",
    "# 접근성 점수 계산\n",
    "df['도로점수'] = df.apply(harmonic_mean, axis=1)\n",
    "\n",
    "# 5분위로 등급(A~E) 부여\n",
    "labels = ['A', 'B', 'C', 'D', 'E']\n",
    "df['도로등급'] = pd.qcut(df['도로점수'], 5, labels=labels)\n",
    "\n",
    "# 결과 확인\n",
    "print(df)\n",
    "\n",
    "# 결과 저장\n",
    "df.to_csv('KIC_도로등급_결과.csv', index=False, encoding='utf-8')"
   ]
  },
  {
   "cell_type": "code",
   "execution_count": 15,
   "id": "b7f3e332",
   "metadata": {},
   "outputs": [],
   "source": [
    "df = pd.read_csv(\"KIC_도로등급_결과.csv\")\n",
    "df.iloc[:, 10] = df.iloc[:, 10].round(2)\n",
    "\n",
    "df.to_csv(\"KIC.csv\", index=False, encoding=\"utf-8\")"
   ]
  },
  {
   "cell_type": "code",
   "execution_count": 17,
   "id": "63e3df08",
   "metadata": {},
   "outputs": [
    {
     "name": "stdout",
     "output_type": "stream",
     "text": [
      "   번호              센터명         위도          경도 은행 편의점  지하철 개수  지하철 점수 지하철등급  \\\n",
      "0   0  강릉 공공임대형 지식산업센터  37.806207  128.854086  E   E       0     0.0     E   \n",
      "1   1         동해지식산업센터  37.481576  129.133811  C   E       0     0.0     E   \n",
      "2   2           표준공장1동  37.480842  129.153095  E   E       0     0.0     E   \n",
      "3   3           표준공장2동  37.480842  129.153095  E   E       0     0.0     E   \n",
      "4   4           표준공장3동  37.480842  129.153095  E   E       0     0.0     E   \n",
      "\n",
      "   국도(km)  고속도로(km)  도로점수 도로등급 지하철등급  \n",
      "0    0.91      7.81  1.63    A     E  \n",
      "1    3.65      6.42  4.65    E     E  \n",
      "2    5.65      9.70  7.14    E     E  \n",
      "3    5.65      9.70  7.14    E     E  \n",
      "4    5.65      9.70  7.14    E     E  \n"
     ]
    }
   ],
   "source": [
    "import pandas as pd\n",
    "\n",
    "# 데이터 로드\n",
    "df = pd.read_csv(\"KIC.csv\")\n",
    "\n",
    "# 0.0인 경우 E 등급으로 설정\n",
    "df['지하철등급'] = 'E'  # 기본값을 E로 설정\n",
    "\n",
    "# 0.0이 아닌 값들만 A~D로 등급화\n",
    "non_zero_scores = df[df['지하철 점수'] > 0]  # 0.0이 아닌 값 필터링\n",
    "labels = ['D', 'C', 'B', 'A']  # 높은 점수가 A, 낮은 점수가 D\n",
    "df.loc[df['지하철 점수'] > 0, '지하철등급'] = pd.qcut(non_zero_scores['지하철 점수'], 4, labels=labels)\n",
    "\n",
    "# \"지하철등급\" 열을 \"지하철 점수\"와 \"국도(km)\" 사이에 삽입\n",
    "columns = df.columns.tolist()\n",
    "insert_position = columns.index('지하철 점수') + 1  # \"지하철 점수\" 바로 뒤에 삽입\n",
    "columns.insert(insert_position, '지하철등급')  # 새로운 열 위치 지정\n",
    "df = df[columns]  # 열 순서 재정렬\n",
    "\n",
    "# 결과 확인\n",
    "print(df.head())\n",
    "\n",
    "# 결과 저장\n",
    "df.to_csv('KIC_지하철등급_결과.csv', index=False, encoding='utf-8')"
   ]
  },
  {
   "cell_type": "code",
   "execution_count": 18,
   "id": "559e7990",
   "metadata": {},
   "outputs": [
    {
     "name": "stdout",
     "output_type": "stream",
     "text": [
      "   번호              센터명         위도          경도 은행 편의점  지하철 개수  지하철 점수 지하철등급  \\\n",
      "0   0  강릉 공공임대형 지식산업센터  37.806207  128.854086  E   E       0     0.0     E   \n",
      "1   1         동해지식산업센터  37.481576  129.133811  C   E       0     0.0     E   \n",
      "2   2           표준공장1동  37.480842  129.153095  E   E       0     0.0     E   \n",
      "3   3           표준공장2동  37.480842  129.153095  E   E       0     0.0     E   \n",
      "4   4           표준공장3동  37.480842  129.153095  E   E       0     0.0     E   \n",
      "\n",
      "   국도(km)  고속도로(km)  도로점수 도로등급  \n",
      "0    0.91      7.81  1.63    A  \n",
      "1    3.65      6.42  4.65    E  \n",
      "2    5.65      9.70  7.14    E  \n",
      "3    5.65      9.70  7.14    E  \n",
      "4    5.65      9.70  7.14    E  \n"
     ]
    }
   ],
   "source": [
    "import pandas as pd\n",
    "\n",
    "# 데이터 로드\n",
    "df = pd.read_csv(\"KIC_지하철등급_결과.csv\")\n",
    "\n",
    "# 마지막 열 삭제\n",
    "df = df.iloc[:, :-1]\n",
    "\n",
    "# 결과 확인\n",
    "print(df.head())\n",
    "\n",
    "# 결과 저장\n",
    "df.to_csv(\"KIC.csv\", index=False, encoding=\"utf-8\")"
   ]
  }
 ],
 "metadata": {
  "kernelspec": {
   "display_name": "Python 3",
   "language": "python",
   "name": "python3"
  },
  "language_info": {
   "codemirror_mode": {
    "name": "ipython",
    "version": 3
   },
   "file_extension": ".py",
   "mimetype": "text/x-python",
   "name": "python",
   "nbconvert_exporter": "python",
   "pygments_lexer": "ipython3",
   "version": "3.10.11"
  }
 },
 "nbformat": 4,
 "nbformat_minor": 5
}
